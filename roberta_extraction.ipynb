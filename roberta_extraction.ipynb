{
 "cells": [
  {
   "cell_type": "code",
   "execution_count": 26,
   "metadata": {},
   "outputs": [],
   "source": [
    "from transformers import RobertaTokenizer, RobertaModel\n",
    "import torch\n",
    "import pandas as pd\n",
    "import numpy as np"
   ]
  },
  {
   "cell_type": "code",
   "execution_count": 30,
   "metadata": {},
   "outputs": [],
   "source": [
    "train_df = pd.read_pickle(\"fhm_features_train.pkl\")\n",
    "test_df = pd.read_pickle(\"fhm_features_test.pkl\")"
   ]
  },
  {
   "cell_type": "code",
   "execution_count": 35,
   "metadata": {},
   "outputs": [],
   "source": [
    "train_df_blip2 = pd.read_pickle(\"blip2_augmented_fhm_train.pkl\")\n",
    "test_df_blip2 = pd.read_pickle(\"blip2_augmented_fhm_test.pkl\")"
   ]
  },
  {
   "cell_type": "code",
   "execution_count": 28,
   "metadata": {},
   "outputs": [],
   "source": [
    "device = \"cuda\" if torch.cuda.is_available() else \"cpu\""
   ]
  },
  {
   "cell_type": "code",
   "execution_count": 29,
   "metadata": {},
   "outputs": [
    {
     "name": "stderr",
     "output_type": "stream",
     "text": [
      "Some weights of RobertaModel were not initialized from the model checkpoint at roberta-large and are newly initialized: ['roberta.pooler.dense.bias', 'roberta.pooler.dense.weight']\n",
      "You should probably TRAIN this model on a down-stream task to be able to use it for predictions and inference.\n"
     ]
    }
   ],
   "source": [
    "tokenizer = RobertaTokenizer.from_pretrained('roberta-large')\n",
    "model = RobertaModel.from_pretrained('roberta-large').to(device)"
   ]
  },
  {
   "cell_type": "code",
   "execution_count": 41,
   "metadata": {},
   "outputs": [],
   "source": [
    "def encode_text(row):\n",
    "    encoded_input = tokenizer(row[\"text\"], return_tensors='pt').to(device)\n",
    "    \n",
    "    with torch.no_grad():\n",
    "        outputs = model(**encoded_input)\n",
    "    \n",
    "    last_hidden_states = outputs.last_hidden_state\n",
    "    embedding = last_hidden_states[:, 0, :].cpu().numpy()\n",
    "    \n",
    "    return embedding\n",
    "\n",
    "def encode_caption(row):\n",
    "    encoded_input = tokenizer(row[\"blip2_caption\"], return_tensors='pt').to(device)\n",
    "    \n",
    "    with torch.no_grad():\n",
    "        outputs = model(**encoded_input)\n",
    "    \n",
    "    last_hidden_states = outputs.last_hidden_state\n",
    "    embedding = last_hidden_states[:, 0, :].cpu().numpy()\n",
    "    \n",
    "    return embedding"
   ]
  },
  {
   "cell_type": "code",
   "execution_count": 33,
   "metadata": {},
   "outputs": [],
   "source": [
    "train_df['text_features'] = train_df.apply(encode_text, axis=1)\n",
    "test_df['text_features'] = test_df.apply(encode_text, axis=1)"
   ]
  },
  {
   "cell_type": "code",
   "execution_count": 42,
   "metadata": {},
   "outputs": [],
   "source": [
    "train_df_blip2['text_features'] = train_df['text_features']\n",
    "test_df_blip2['text_features'] = test_df['text_features']\n",
    "train_df_blip2['blip_features'] = train_df_blip2.apply(encode_caption, axis=1)\n",
    "test_df_blip2['blip_features'] = test_df_blip2.apply(encode_caption, axis=1)"
   ]
  },
  {
   "cell_type": "code",
   "execution_count": 47,
   "metadata": {},
   "outputs": [],
   "source": [
    "blip2_img_train = pd.read_pickle(\"fhm_blip_features_train.pkl\")\n",
    "blip2_img_test = pd.read_pickle(\"fhm_blip_features_test.pkl\")\n",
    "train_df_blip2['vit-l-14-img_features'] = blip2_img_train['vit-l-14-img_features']\n",
    "test_df_blip2['vit-l-14-img_features'] = blip2_img_test['vit-l-14-img_features']"
   ]
  },
  {
   "cell_type": "code",
   "execution_count": 48,
   "metadata": {},
   "outputs": [],
   "source": [
    "train_df.to_pickle(\"fhm_features_train_roberta.pkl\")\n",
    "test_df.to_pickle(\"fhm_features_test_roberta.pkl\")\n",
    "train_df_blip2.to_pickle(\"fhm_blip_features_train_roberta.pkl\")\n",
    "test_df_blip2.to_pickle(\"fhm_blip_features_test_roberta.pkl\")"
   ]
  }
 ],
 "metadata": {
  "kernelspec": {
   "display_name": "Python 3",
   "language": "python",
   "name": "python3"
  },
  "language_info": {
   "codemirror_mode": {
    "name": "ipython",
    "version": 3
   },
   "file_extension": ".py",
   "mimetype": "text/x-python",
   "name": "python",
   "nbconvert_exporter": "python",
   "pygments_lexer": "ipython3",
   "version": "3.11.1"
  }
 },
 "nbformat": 4,
 "nbformat_minor": 2
}
