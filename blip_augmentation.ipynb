{
 "cells": [
  {
   "cell_type": "code",
   "execution_count": 1,
   "metadata": {},
   "outputs": [],
   "source": [
    "import torch\n",
    "import pandas as pd \n",
    "from PIL import Image\n",
    "import requests\n",
    "from lavis.models import load_model_and_preprocess"
   ]
  },
  {
   "cell_type": "code",
   "execution_count": 4,
   "metadata": {},
   "outputs": [
    {
     "name": "stdout",
     "output_type": "stream",
     "text": [
      "8500 train samples\n",
      "500 test samples\n"
     ]
    }
   ],
   "source": [
    "train_df = pd.read_json(\"hateful_memes/train.jsonl\", lines=True)\n",
    "test_df = pd.read_json(\"hateful_memes/dev_seen.jsonl\", lines=True)\n",
    "\n",
    "train_df = train_df[[\"label\", \"img\", \"text\"]]\n",
    "test_df = test_df[[\"label\", \"img\", \"text\"]]\n",
    "\n",
    "print(len(train_df), \"train samples\")\n",
    "print(len(test_df), \"test samples\")"
   ]
  },
  {
   "cell_type": "code",
   "execution_count": 7,
   "metadata": {},
   "outputs": [],
   "source": [
    "device = torch.device(\"cuda\") if torch.cuda.is_available() else \"cpu\"\n",
    "    \n",
    "model, vis_processors, _ = load_model_and_preprocess(\n",
    "    name=\"blip_caption\", model_type=\"large_coco\", is_eval=True, device=device\n",
    ")"
   ]
  },
  {
   "cell_type": "markdown",
   "metadata": {},
   "source": [
    "## Apply BLIP2 captioning to every image per row in train and test dataframes"
   ]
  },
  {
   "cell_type": "code",
   "execution_count": 10,
   "metadata": {},
   "outputs": [],
   "source": [
    "def img_to_blip(row):\n",
    "    hateful_memes_dir = \"hateful_memes\"\n",
    "    img = Image.open(hateful_memes_dir + \"/\" + row[\"img\"]).convert(\"RGB\")\n",
    "    img = vis_processors[\"eval\"](img).unsqueeze(0).to(device)\n",
    "    output = model.generate({\"image\": img}, num_beams=1)\n",
    "    return output"
   ]
  },
  {
   "cell_type": "code",
   "execution_count": 11,
   "metadata": {},
   "outputs": [],
   "source": [
    "train_df['blip2_caption'] = train_df.apply(img_to_blip, axis=1)\n",
    "test_df['blip2_caption'] = test_df.apply(img_to_blip, axis=1)"
   ]
  },
  {
   "cell_type": "markdown",
   "metadata": {},
   "source": [
    "### Pickle to file"
   ]
  },
  {
   "cell_type": "code",
   "execution_count": 24,
   "metadata": {},
   "outputs": [],
   "source": [
    "train_df.to_pickle(\"blip2_augmented_fhm_train.pkl\")\n",
    "test_df.to_pickle(\"blip2_augmented_fhm_test.pkl\")"
   ]
  }
 ],
 "metadata": {
  "kernelspec": {
   "display_name": "Python 3",
   "language": "python",
   "name": "python3"
  },
  "language_info": {
   "codemirror_mode": {
    "name": "ipython",
    "version": 3
   },
   "file_extension": ".py",
   "mimetype": "text/x-python",
   "name": "python",
   "nbconvert_exporter": "python",
   "pygments_lexer": "ipython3",
   "version": "3.11.1"
  }
 },
 "nbformat": 4,
 "nbformat_minor": 2
}
